{
 "cells": [
  {
   "cell_type": "code",
   "execution_count": 1,
   "id": "36fe7b5a-6407-4bb2-84fd-1dc8c53ddd03",
   "metadata": {},
   "outputs": [],
   "source": [
    "import numpy as np\n",
    "import pandas as pd\n",
    "import os"
   ]
  },
  {
   "cell_type": "code",
   "execution_count": 3,
   "id": "d61e0861-b88a-42e8-842a-cbc870b345de",
   "metadata": {},
   "outputs": [],
   "source": [
    "password = os.getenv(\"secretpassword\")"
   ]
  }
 ],
 "metadata": {
  "kernelspec": {
   "display_name": "ds6600",
   "language": "python",
   "name": "python3"
  },
  "language_info": {
   "codemirror_mode": {
    "name": "ipython",
    "version": 3
   },
   "file_extension": ".py",
   "mimetype": "text/x-python",
   "name": "python",
   "nbconvert_exporter": "python",
   "pygments_lexer": "ipython3",
   "version": "3.13.5"
  }
 },
 "nbformat": 4,
 "nbformat_minor": 5
}
