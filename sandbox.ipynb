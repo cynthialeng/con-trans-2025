{
 "cells": [
  {
   "cell_type": "code",
   "execution_count": 1,
   "id": "ff4f6a88",
   "metadata": {},
   "outputs": [],
   "source": [
    "from contrans import contrans"
   ]
  },
  {
   "cell_type": "code",
   "execution_count": 2,
   "id": "6f1d5360",
   "metadata": {},
   "outputs": [],
   "source": [
    "ct = contrans()\n",
    "ct.get_crosswalk()"
   ]
  },
  {
   "cell_type": "code",
   "execution_count": 3,
   "id": "02f8c72e",
   "metadata": {},
   "outputs": [
    {
     "data": {
      "text/html": [
       "<div>\n",
       "<style scoped>\n",
       "    .dataframe tbody tr th:only-of-type {\n",
       "        vertical-align: middle;\n",
       "    }\n",
       "\n",
       "    .dataframe tbody tr th {\n",
       "        vertical-align: top;\n",
       "    }\n",
       "\n",
       "    .dataframe thead th {\n",
       "        text-align: right;\n",
       "    }\n",
       "</style>\n",
       "<table border=\"1\" class=\"dataframe\">\n",
       "  <thead>\n",
       "    <tr style=\"text-align: right;\">\n",
       "      <th></th>\n",
       "      <th>bioname</th>\n",
       "      <th>chamber</th>\n",
       "      <th>left_right_ideology</th>\n",
       "      <th>state_abbrev</th>\n",
       "      <th>district_code</th>\n",
       "      <th>icpsr</th>\n",
       "      <th>bioguide_id</th>\n",
       "      <th>party</th>\n",
       "    </tr>\n",
       "  </thead>\n",
       "  <tbody>\n",
       "    <tr>\n",
       "      <th>417</th>\n",
       "      <td>MCGUIRE, John J., III</td>\n",
       "      <td>House</td>\n",
       "      <td>0.673</td>\n",
       "      <td>VA</td>\n",
       "      <td>5</td>\n",
       "      <td>22539</td>\n",
       "      <td>M001239</td>\n",
       "      <td>Republican</td>\n",
       "    </tr>\n",
       "  </tbody>\n",
       "</table>\n",
       "</div>"
      ],
      "text/plain": [
       "                   bioname chamber  left_right_ideology state_abbrev  \\\n",
       "417  MCGUIRE, John J., III   House                0.673           VA   \n",
       "\n",
       "     district_code  icpsr bioguide_id       party  \n",
       "417              5  22539     M001239  Republican  "
      ]
     },
     "execution_count": 3,
     "metadata": {},
     "output_type": "execute_result"
    }
   ],
   "source": [
    "ct.get_member_info(chamber='House', state='VA', district=5)"
   ]
  },
  {
   "cell_type": "code",
   "execution_count": 4,
   "id": "0a688f38",
   "metadata": {},
   "outputs": [],
   "source": [
    "ct.get_vote_similarity_data()"
   ]
  }
 ],
 "metadata": {
  "kernelspec": {
   "display_name": "ds6600",
   "language": "python",
   "name": "python3"
  },
  "language_info": {
   "codemirror_mode": {
    "name": "ipython",
    "version": 3
   },
   "file_extension": ".py",
   "mimetype": "text/x-python",
   "name": "python",
   "nbconvert_exporter": "python",
   "pygments_lexer": "ipython3",
   "version": "3.13.5"
  }
 },
 "nbformat": 4,
 "nbformat_minor": 5
}
