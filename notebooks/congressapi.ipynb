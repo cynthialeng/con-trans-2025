{
 "cells": [
  {
   "cell_type": "code",
   "execution_count": 2,
   "id": "101109be",
   "metadata": {},
   "outputs": [],
   "source": [
    "import numpy as np\n",
    "import pandas as pd\n",
    "import requests\n",
    "import json\n",
    "import dotenv\n",
    "import os"
   ]
  },
  {
   "cell_type": "markdown",
   "id": "1af9ffea",
   "metadata": {},
   "source": [
    "## Getting Biographical Data from the Congress API\n",
    "\n",
    "The most important skill is reading the API documentation efficiently.\n",
    "\n",
    "Look ONLY for these five things:\n",
    "\n",
    "1. Root: the beginning part of all URLs associated with this API for getting data back (I often find this in examples first)\n",
    "\n",
    "    https://api.congress.gov/v3\n",
    "\n",
    "\n",
    "2. Endpoint: the second part of the URL, generally it points to a specific dataset to be returned\n",
    "\n",
    "    /member/{bioguideId}\n",
    "\n",
    "    The curly braces mean: fill this in for whichever member of congress you want\n",
    "\n",
    "\n",
    "3. The headers: data that we give to the API to identify outselves, and provide other information if requested\n",
    "    \n",
    "    * User Agent string: a string that identifies your software. If you are writing a bot, what is your bot's name, and what methods are you using to access this API.\n",
    "\n",
    "    The standard convention is: \n",
    "    `botname/version (email) python-requests/request-package-version`"
   ]
  },
  {
   "cell_type": "code",
   "execution_count": 3,
   "id": "41a6e197",
   "metadata": {},
   "outputs": [],
   "source": [
    "botname = 'targ'\n",
    "version = '0.0'\n",
    "email = ''\n",
    "useragent = f'{botname}/{version} ({email}) python-requests/{requests.__version__}'\n",
    "headers = {'User-Agent': useragent}"
   ]
  },
  {
   "cell_type": "markdown",
   "id": "32e797e0",
   "metadata": {},
   "source": [
    "4. API Parameters: these are ways to control what data is requested. The parameters are generally listed in the documentation for each endpoint. 3 kinds of parameters:\n",
    "\n",
    "    * Query parameters: should be listed in a dictionary and passed to the `params` argument of `requests.get()`\n",
    "\n",
    "    * Path parameters: are part of the endpoint (such as bioguideId)\n",
    "\n",
    "    * Global parameters: apply to any use of the API regardless of endpoint; often includes your API key; can be in either the headers or the params\n",
    "\n",
    "5. If an API Key is needed, how to get one, and how will you let the API know the key?\n",
    "\n",
    "    API keys should be saved in a .env file in the same folder as your code. Use `dotenv` package to load the key into your code without ever displaying/exposing your keys."
   ]
  },
  {
   "cell_type": "code",
   "execution_count": 4,
   "id": "2e8c1ed1",
   "metadata": {},
   "outputs": [],
   "source": [
    "dotenv.load_dotenv()\n",
    "congresskey = os.getenv(\"congresskey\")\n",
    "params = {'format': 'json',\n",
    "          'api_key': congresskey}"
   ]
  },
  {
   "cell_type": "markdown",
   "id": "e652b8da",
   "metadata": {},
   "source": [
    "Put it all together."
   ]
  },
  {
   "cell_type": "code",
   "execution_count": 5,
   "id": "fd625617",
   "metadata": {},
   "outputs": [],
   "source": [
    "bioguideId = 'M001239'\n",
    "root = 'https://api.congress.gov/v3'\n",
    "endpoint = f'/member/{bioguideId}'\n",
    "\n",
    "r = requests.get(root + endpoint, \n",
    "                 headers = headers, \n",
    "                 params = params)"
   ]
  },
  {
   "cell_type": "code",
   "execution_count": 6,
   "id": "0d3c2e00",
   "metadata": {},
   "outputs": [
    {
     "data": {
      "text/plain": [
       "{'member': {'addressInformation': {'city': 'Washington',\n",
       "   'district': 'DC',\n",
       "   'officeAddress': '1013 Longworth House Office Building',\n",
       "   'phoneNumber': '(202) 225-4711',\n",
       "   'zipCode': 20515},\n",
       "  'bioguideId': 'M001239',\n",
       "  'birthYear': '1968',\n",
       "  'cosponsoredLegislation': {'count': 168,\n",
       "   'url': 'https://api.congress.gov/v3/member/M001239/cosponsored-legislation'},\n",
       "  'currentMember': True,\n",
       "  'depiction': {'attribution': 'Image courtesy of the Member',\n",
       "   'imageUrl': 'https://www.congress.gov/img/member/67744ba20b34857ecc909149_200.jpg'},\n",
       "  'directOrderName': 'John J. McGuire III',\n",
       "  'district': 5,\n",
       "  'firstName': 'John',\n",
       "  'honorificName': 'Mr.',\n",
       "  'invertedOrderName': 'McGuire, John J.',\n",
       "  'lastName': 'McGuire',\n",
       "  'middleName': 'J.',\n",
       "  'officialWebsiteUrl': 'https://mcguire.house.gov/',\n",
       "  'partyHistory': [{'partyAbbreviation': 'R',\n",
       "    'partyName': 'Republican',\n",
       "    'startYear': 2025}],\n",
       "  'previousNames': [{'directOrderName': 'John McGuire',\n",
       "    'endDate': '2025-01-10T17:36:18Z',\n",
       "    'firstName': 'John',\n",
       "    'honorificName': 'Mr.',\n",
       "    'invertedOrderName': 'McGuire, John',\n",
       "    'lastName': 'McGuire',\n",
       "    'middleName': 'J.',\n",
       "    'startDate': '2025-01-03T17:00:00Z'},\n",
       "   {'directOrderName': 'John McGuire',\n",
       "    'endDate': '2025-01-17T04:59:59Z',\n",
       "    'firstName': 'John',\n",
       "    'honorificName': 'Mr.',\n",
       "    'invertedOrderName': 'McGuire, John',\n",
       "    'lastName': 'McGuire',\n",
       "    'middleName': 'J.',\n",
       "    'startDate': '2025-01-10T17:36:19Z'},\n",
       "   {'directOrderName': 'John McGuire',\n",
       "    'endDate': '2025-04-28T13:04:26Z',\n",
       "    'firstName': 'John',\n",
       "    'honorificName': 'Mr.',\n",
       "    'invertedOrderName': 'McGuire, John',\n",
       "    'lastName': 'McGuire',\n",
       "    'middleName': 'J.',\n",
       "    'startDate': '2025-01-17T05:00:00Z'},\n",
       "   {'directOrderName': 'John J. McGuire III',\n",
       "    'firstName': 'John',\n",
       "    'honorificName': 'Mr.',\n",
       "    'invertedOrderName': 'McGuire, John J.',\n",
       "    'lastName': 'McGuire',\n",
       "    'middleName': 'J.',\n",
       "    'startDate': '2025-04-28T13:04:27Z'}],\n",
       "  'sponsoredLegislation': {'count': 9,\n",
       "   'url': 'https://api.congress.gov/v3/member/M001239/sponsored-legislation'},\n",
       "  'state': 'Virginia',\n",
       "  'suffixName': 'III',\n",
       "  'terms': [{'chamber': 'House of Representatives',\n",
       "    'congress': 119,\n",
       "    'district': 5,\n",
       "    'memberType': 'Representative',\n",
       "    'startYear': 2025,\n",
       "    'stateCode': 'VA',\n",
       "    'stateName': 'Virginia'}],\n",
       "  'updateDate': '2025-09-24T07:40:20Z'},\n",
       " 'request': {'bioguideId': 'm001239',\n",
       "  'contentType': 'application/json',\n",
       "  'format': 'json'}}"
      ]
     },
     "execution_count": 6,
     "metadata": {},
     "output_type": "execute_result"
    }
   ],
   "source": [
    "r.json()"
   ]
  },
  {
   "cell_type": "markdown",
   "id": "774e8bd1",
   "metadata": {},
   "source": [
    "### Sponsored legislation"
   ]
  },
  {
   "cell_type": "code",
   "execution_count": 7,
   "id": "a3b4bb24",
   "metadata": {},
   "outputs": [
    {
     "data": {
      "text/plain": [
       "'/member/M001239/sponsored-legislation'"
      ]
     },
     "execution_count": 7,
     "metadata": {},
     "output_type": "execute_result"
    }
   ],
   "source": [
    "endpoint = f'/member/{bioguideId}/sponsored-legislation'\n",
    "endpoint"
   ]
  },
  {
   "cell_type": "code",
   "execution_count": 9,
   "id": "29d863d6",
   "metadata": {},
   "outputs": [],
   "source": [
    "params = {'format': 'json',\n",
    "          'offset': 0,\n",
    "          'limit': 250,\n",
    "          'api_key': congresskey}"
   ]
  },
  {
   "cell_type": "code",
   "execution_count": 10,
   "id": "e71028a9",
   "metadata": {},
   "outputs": [
    {
     "data": {
      "text/plain": [
       "<Response [200]>"
      ]
     },
     "execution_count": 10,
     "metadata": {},
     "output_type": "execute_result"
    }
   ],
   "source": [
    "r = requests.get(root + endpoint, \n",
    "                 headers=headers, \n",
    "                 params=params)\n",
    "r"
   ]
  },
  {
   "cell_type": "code",
   "execution_count": 13,
   "id": "80b4ca57",
   "metadata": {},
   "outputs": [
    {
     "data": {
      "text/plain": [
       "{'pagination': {'count': 9},\n",
       " 'request': {'bioguideId': 'm001239',\n",
       "  'contentType': 'application/json',\n",
       "  'format': 'json'},\n",
       " 'sponsoredLegislation': [{'congress': 119,\n",
       "   'introducedDate': '2025-09-26',\n",
       "   'latestAction': {'actionDate': '2025-09-26',\n",
       "    'text': 'Referred to the House Committee on Ways and Means.'},\n",
       "   'number': '5595',\n",
       "   'policyArea': {'name': None},\n",
       "   'title': 'To amend the Internal Revenue Code of 1986 to modify the tax on remittance transfers.',\n",
       "   'type': 'HR',\n",
       "   'url': 'https://api.congress.gov/v3/bill/119/hr/5595?format=json'},\n",
       "  {'congress': 119,\n",
       "   'introducedDate': '2025-09-19',\n",
       "   'latestAction': {'actionDate': '2025-09-19',\n",
       "    'text': 'Referred to the House Committee on Armed Services.'},\n",
       "   'number': '5522',\n",
       "   'policyArea': {'name': None},\n",
       "   'title': 'To change the name of the Department of Defense to the \"Department of War\", and for other purposes.',\n",
       "   'type': 'HR',\n",
       "   'url': 'https://api.congress.gov/v3/bill/119/hr/5522?format=json'},\n",
       "  {'congress': 119,\n",
       "   'introducedDate': '2025-09-09',\n",
       "   'latestAction': {'actionDate': '2025-09-09',\n",
       "    'text': 'Referred to the House Committee on Homeland Security.'},\n",
       "   'number': '5218',\n",
       "   'policyArea': {'name': 'Immigration'},\n",
       "   'title': 'Border Wall Status Act',\n",
       "   'type': 'HR',\n",
       "   'url': 'https://api.congress.gov/v3/bill/119/hr/5218?format=json'},\n",
       "  {'congress': 119,\n",
       "   'introducedDate': '2025-09-03',\n",
       "   'latestAction': {'actionDate': '2025-09-10',\n",
       "    'text': 'Ordered to be Reported (Amended) by the Yeas and Nays: 25 - 19.'},\n",
       "   'number': '5103',\n",
       "   'policyArea': {'name': 'Public Lands and Natural Resources'},\n",
       "   'title': 'Make the District of Columbia Safe and Beautiful Act',\n",
       "   'type': 'HR',\n",
       "   'url': 'https://api.congress.gov/v3/bill/119/hr/5103?format=json'},\n",
       "  {'congress': 119,\n",
       "   'introducedDate': '2025-07-22',\n",
       "   'latestAction': {'actionDate': '2025-07-22',\n",
       "    'text': 'Referred to the House Committee on Energy and Commerce.'},\n",
       "   'number': '4603',\n",
       "   'policyArea': {'name': 'Energy'},\n",
       "   'title': 'FAIR Act',\n",
       "   'type': 'HR',\n",
       "   'url': 'https://api.congress.gov/v3/bill/119/hr/4603?format=json'},\n",
       "  {'congress': 119,\n",
       "   'introducedDate': '2025-05-29',\n",
       "   'latestAction': {'actionDate': '2025-06-12',\n",
       "    'text': 'Subcommittee Hearings Held'},\n",
       "   'number': '3643',\n",
       "   'policyArea': {'name': 'Armed Forces and National Security'},\n",
       "   'title': 'VA Data Transparency and Trust Act',\n",
       "   'type': 'HR',\n",
       "   'url': 'https://api.congress.gov/v3/bill/119/hr/3643?format=json'},\n",
       "  {'congress': 119,\n",
       "   'introducedDate': '2025-05-17',\n",
       "   'latestAction': {'actionDate': '2025-05-18',\n",
       "    'text': 'Referred to the Subcommittee on Aviation.'},\n",
       "   'number': '3478',\n",
       "   'policyArea': {'name': 'Crime and Law Enforcement'},\n",
       "   'title': 'Manned Aircraft Clarification Act',\n",
       "   'type': 'HR',\n",
       "   'url': 'https://api.congress.gov/v3/bill/119/hr/3478?format=json'},\n",
       "  {'congress': 119,\n",
       "   'introducedDate': '2025-02-26',\n",
       "   'latestAction': {'actionDate': '2025-02-26',\n",
       "    'text': 'Referred to the House Committee on Natural Resources.'},\n",
       "   'number': '1622',\n",
       "   'policyArea': {'name': 'Energy'},\n",
       "   'title': 'Uranium for Energy Independence Act of 2025',\n",
       "   'type': 'HR',\n",
       "   'url': 'https://api.congress.gov/v3/bill/119/hr/1622?format=json'},\n",
       "  {'congress': 119,\n",
       "   'introducedDate': '2025-02-21',\n",
       "   'latestAction': {'actionDate': '2025-02-26',\n",
       "    'text': 'Sponsor introductory remarks on measure. (CR H845)'},\n",
       "   'number': '1487',\n",
       "   'policyArea': {'name': 'Transportation and Public Works'},\n",
       "   'title': 'Agricultural and Forestry Hauling Efficiency Act',\n",
       "   'type': 'HR',\n",
       "   'url': 'https://api.congress.gov/v3/bill/119/hr/1487?format=json'}]}"
      ]
     },
     "execution_count": 13,
     "metadata": {},
     "output_type": "execute_result"
    }
   ],
   "source": [
    "r.json()"
   ]
  },
  {
   "cell_type": "code",
   "execution_count": 16,
   "id": "bb2df8c0",
   "metadata": {},
   "outputs": [],
   "source": [
    "myjson = r.json()\n",
    "sponsoredLegislation_df = pd.json_normalize(myjson, record_path=['sponsoredLegislation'])"
   ]
  },
  {
   "cell_type": "code",
   "execution_count": 17,
   "id": "84aae1b8",
   "metadata": {},
   "outputs": [
    {
     "name": "stdout",
     "output_type": "stream",
     "text": [
      "To amend the Internal Revenue Code of 1986 to modify the tax on remittance transfers.\n",
      "To change the name of the Department of Defense to the \"Department of War\", and for other purposes.\n",
      "Border Wall Status Act\n",
      "Make the District of Columbia Safe and Beautiful Act\n",
      "FAIR Act\n",
      "VA Data Transparency and Trust Act\n",
      "Manned Aircraft Clarification Act\n",
      "Uranium for Energy Independence Act of 2025\n",
      "Agricultural and Forestry Hauling Efficiency Act\n"
     ]
    }
   ],
   "source": [
    "for i in sponsoredLegislation_df['title']:\n",
    "    print(i)"
   ]
  },
  {
   "cell_type": "code",
   "execution_count": 20,
   "id": "6bd3efb1",
   "metadata": {},
   "outputs": [
    {
     "data": {
      "text/plain": [
       "{'bill': {'actions': {'count': 3,\n",
       "   'url': 'https://api.congress.gov/v3/bill/119/hr/5522/actions?format=json'},\n",
       "  'committees': {'count': 1,\n",
       "   'url': 'https://api.congress.gov/v3/bill/119/hr/5522/committees?format=json'},\n",
       "  'congress': 119,\n",
       "  'constitutionalAuthorityStatementText': '<pre>\\n[Congressional Record Volume 171, Number 154 (Friday, September 19, 2025)]\\n[House]\\nFrom the Congressional Record Online through the Government Publishing Office [<a href=\"https://www.gpo.gov\">www.gpo.gov</a>]\\nBy Mr. McGUIRE:\\nH.R. 5522.\\nCongress has the power to enact this legislation pursuant\\nto the following:\\nArticle I, Section 8\\n[Page H4489]\\n</pre>',\n",
       "  'introducedDate': '2025-09-19',\n",
       "  'latestAction': {'actionDate': '2025-09-19',\n",
       "   'text': 'Referred to the House Committee on Armed Services.'},\n",
       "  'legislationUrl': 'https://www.congress.gov/bill/119th-congress/house-bill/5522',\n",
       "  'number': '5522',\n",
       "  'originChamber': 'House',\n",
       "  'originChamberCode': 'H',\n",
       "  'sponsors': [{'bioguideId': 'M001239',\n",
       "    'district': 5,\n",
       "    'firstName': 'John',\n",
       "    'fullName': 'Rep. McGuire, John J. [R-VA-5]',\n",
       "    'isByRequest': 'N',\n",
       "    'lastName': 'McGuire',\n",
       "    'middleName': 'J.',\n",
       "    'party': 'R',\n",
       "    'state': 'VA',\n",
       "    'url': 'https://api.congress.gov/v3/member/M001239?format=json'}],\n",
       "  'title': 'To change the name of the Department of Defense to the \"Department of War\", and for other purposes.',\n",
       "  'titles': {'count': 2,\n",
       "   'url': 'https://api.congress.gov/v3/bill/119/hr/5522/titles?format=json'},\n",
       "  'type': 'HR',\n",
       "  'updateDate': '2025-09-22T15:31:33Z',\n",
       "  'updateDateIncludingText': '2025-09-22T22:28:13Z'},\n",
       " 'request': {'billNumber': '5522',\n",
       "  'billType': 'hr',\n",
       "  'congress': '119',\n",
       "  'contentType': 'application/json',\n",
       "  'format': 'json'}}"
      ]
     },
     "execution_count": 20,
     "metadata": {},
     "output_type": "execute_result"
    }
   ],
   "source": [
    "r = requests.get(sponsoredLegislation_df['url'][1], \n",
    "                 headers=headers, \n",
    "                 params=params)\n",
    "r.json()"
   ]
  },
  {
   "cell_type": "markdown",
   "id": "62e182d2",
   "metadata": {},
   "source": [
    "### FEC Data for financial campaign contributions"
   ]
  },
  {
   "cell_type": "code",
   "execution_count": 21,
   "id": "b73f38f8",
   "metadata": {},
   "outputs": [],
   "source": [
    "dotenv.load_dotenv()\n",
    "feckey = os.getenv(\"feckey\")"
   ]
  },
  {
   "cell_type": "code",
   "execution_count": 23,
   "id": "82d3a25b",
   "metadata": {},
   "outputs": [
    {
     "data": {
      "text/plain": [
       "<Response [200]>"
      ]
     },
     "execution_count": 23,
     "metadata": {},
     "output_type": "execute_result"
    }
   ],
   "source": [
    "root = 'https://api.open.fec.gov'\n",
    "endpoint = '/v1/candidates/search/'\n",
    "\n",
    "params = {'api_key': feckey,\n",
    "          'q': 'John McGuire',\n",
    "          'state': 'VA',\n",
    "          'district': '5',\n",
    "          'office': 'H'}\n",
    "\n",
    "r = requests.get(root + endpoint, \n",
    "                 headers=headers, \n",
    "                 params=params)\n",
    "r"
   ]
  },
  {
   "cell_type": "code",
   "execution_count": 27,
   "id": "fcb87a54",
   "metadata": {},
   "outputs": [
    {
     "data": {
      "text/plain": [
       "'H0VA07133'"
      ]
     },
     "execution_count": 27,
     "metadata": {},
     "output_type": "execute_result"
    }
   ],
   "source": [
    "myjson = r.json()\n",
    "candidate_id = myjson['results'][0]['candidate_id']\n",
    "candidate_id"
   ]
  },
  {
   "cell_type": "code",
   "execution_count": null,
   "id": "5bbe262b",
   "metadata": {},
   "outputs": [
    {
     "data": {
      "text/plain": [
       "{'api_version': '1.0',\n",
       " 'results': [{'id': 'H0VA07133',\n",
       "   'name': 'MCGUIRE, JOHN',\n",
       "   'office_sought': 'H'},\n",
       "  {'id': 'H2VA07196', 'name': 'MCGUIRE, JOHN', 'office_sought': 'H'},\n",
       "  {'id': 'H0FL16029', 'name': 'MCGUIRE, JOHN MICHAEL', 'office_sought': 'H'}]}"
      ]
     },
     "execution_count": 28,
     "metadata": {},
     "output_type": "execute_result"
    }
   ],
   "source": [
    "# three John McGuire\n",
    "\n",
    "root = 'https://api.open.fec.gov'\n",
    "endpoint = '/v1/names/candidates/'\n",
    "\n",
    "params = {'api_key': feckey,\n",
    "          'q': 'John McGuire'}\n",
    "\n",
    "r = requests.get(root + endpoint, \n",
    "                 headers=headers, \n",
    "                 params=params)\n",
    "\n",
    "r.json()"
   ]
  }
 ],
 "metadata": {
  "kernelspec": {
   "display_name": "ds6600",
   "language": "python",
   "name": "python3"
  },
  "language_info": {
   "codemirror_mode": {
    "name": "ipython",
    "version": 3
   },
   "file_extension": ".py",
   "mimetype": "text/x-python",
   "name": "python",
   "nbconvert_exporter": "python",
   "pygments_lexer": "ipython3",
   "version": "3.13.5"
  }
 },
 "nbformat": 4,
 "nbformat_minor": 5
}
