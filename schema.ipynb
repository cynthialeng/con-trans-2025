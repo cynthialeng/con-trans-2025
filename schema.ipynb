{
 "cells": [
  {
   "cell_type": "code",
   "execution_count": 100,
   "id": "f0ead11a",
   "metadata": {},
   "outputs": [],
   "source": [
    "import numpy as np\n",
    "import pandas as pd"
   ]
  },
  {
   "cell_type": "code",
   "execution_count": 101,
   "id": "4503e91a",
   "metadata": {},
   "outputs": [],
   "source": [
    "bill_summaries = pd.read_csv('data/bill_summaries.csv')\n",
    "bio_info = pd.read_csv('data/bioinfo.csv')\n",
    "fec_ids = pd.read_csv('data/fec_ids.csv')\n",
    "ideology = pd.read_csv('data/ideology.csv')\n",
    "sponsored_legislation = pd.read_csv('data/sponsored_legislation.csv')\n",
    "terms = pd.read_csv('data/terms.csv')\n",
    "vote_compare = pd.read_csv('data/vote_compare.csv')\n",
    "contrib = pd.read_csv('data/contrib.csv')\n"
   ]
  },
  {
   "cell_type": "markdown",
   "id": "d1e47356",
   "metadata": {},
   "source": [
    "1. Do each of the CSVs have a primary key? If so, what?"
   ]
  },
  {
   "cell_type": "code",
   "execution_count": 102,
   "id": "06d64c61",
   "metadata": {},
   "outputs": [
    {
     "data": {
      "text/plain": [
       "False    2751\n",
       "Name: count, dtype: int64"
      ]
     },
     "execution_count": 102,
     "metadata": {},
     "output_type": "execute_result"
    }
   ],
   "source": [
    "bill_summaries[['bill.type', 'bill.number', 'versionCode']].duplicated().value_counts()"
   ]
  },
  {
   "cell_type": "code",
   "execution_count": 103,
   "id": "7e560f11",
   "metadata": {},
   "outputs": [
    {
     "data": {
      "text/plain": [
       "False    545\n",
       "Name: count, dtype: int64"
      ]
     },
     "execution_count": 103,
     "metadata": {},
     "output_type": "execute_result"
    }
   ],
   "source": [
    "bio_info[['bioguide_id']].duplicated().value_counts()"
   ]
  },
  {
   "cell_type": "code",
   "execution_count": 104,
   "id": "e753020c",
   "metadata": {},
   "outputs": [
    {
     "data": {
      "text/plain": [
       "False    545\n",
       "Name: count, dtype: int64"
      ]
     },
     "execution_count": 104,
     "metadata": {},
     "output_type": "execute_result"
    }
   ],
   "source": [
    "fec_ids[['bioguide_id']].duplicated().value_counts()"
   ]
  },
  {
   "cell_type": "code",
   "execution_count": 105,
   "id": "8b0240aa",
   "metadata": {},
   "outputs": [
    {
     "data": {
      "text/plain": [
       "False    545\n",
       "Name: count, dtype: int64"
      ]
     },
     "execution_count": 105,
     "metadata": {},
     "output_type": "execute_result"
    }
   ],
   "source": [
    "ideology[['bioguide_id']].duplicated().value_counts()"
   ]
  },
  {
   "cell_type": "code",
   "execution_count": 106,
   "id": "2df71be7",
   "metadata": {},
   "outputs": [
    {
     "data": {
      "text/plain": [
       "False    14379\n",
       "Name: count, dtype: int64"
      ]
     },
     "execution_count": 106,
     "metadata": {},
     "output_type": "execute_result"
    }
   ],
   "source": [
    "sponsored_legislation[['url']].duplicated().value_counts()"
   ]
  },
  {
   "cell_type": "code",
   "execution_count": 107,
   "id": "20194393",
   "metadata": {},
   "outputs": [
    {
     "data": {
      "text/plain": [
       "False    3257\n",
       "Name: count, dtype: int64"
      ]
     },
     "execution_count": 107,
     "metadata": {},
     "output_type": "execute_result"
    }
   ],
   "source": [
    "terms[['bioguide_id', 'chamber', 'congress']].duplicated().value_counts()"
   ]
  },
  {
   "cell_type": "code",
   "execution_count": 108,
   "id": "23523c04",
   "metadata": {},
   "outputs": [
    {
     "data": {
      "text/plain": [
       "False    206040\n",
       "Name: count, dtype: int64"
      ]
     },
     "execution_count": 108,
     "metadata": {},
     "output_type": "execute_result"
    }
   ],
   "source": [
    "vote_compare[['bioname', 'comparison_member']].duplicated().value_counts()"
   ]
  },
  {
   "cell_type": "code",
   "execution_count": 109,
   "id": "01048ebc",
   "metadata": {},
   "outputs": [],
   "source": [
    "contrib=contrib.drop_duplicates()"
   ]
  },
  {
   "cell_type": "markdown",
   "id": "8bfb656c",
   "metadata": {},
   "source": [
    "2. Do any of the tables need to become multiple tables, or combined into one table?\n",
    "\n",
    "    * Should be combined into one table (share the same primary key): bioinfo, fec_ids, ideology"
   ]
  },
  {
   "cell_type": "code",
   "execution_count": 110,
   "id": "41e68698",
   "metadata": {},
   "outputs": [],
   "source": [
    "members = pd.merge(bio_info, fec_ids, \n",
    "                   how='outer', on='bioguide_id', \n",
    "                   validate='one_to_one', indicator='matched')"
   ]
  },
  {
   "cell_type": "code",
   "execution_count": 111,
   "id": "a2764fb2",
   "metadata": {},
   "outputs": [
    {
     "data": {
      "text/plain": [
       "matched\n",
       "both          545\n",
       "left_only       0\n",
       "right_only      0\n",
       "Name: count, dtype: int64"
      ]
     },
     "execution_count": 111,
     "metadata": {},
     "output_type": "execute_result"
    }
   ],
   "source": [
    "members['matched'].value_counts()"
   ]
  },
  {
   "cell_type": "code",
   "execution_count": 112,
   "id": "91415ac7",
   "metadata": {},
   "outputs": [],
   "source": [
    "members = members.drop(['matched'], axis=1)"
   ]
  },
  {
   "cell_type": "code",
   "execution_count": 113,
   "id": "be9ce198",
   "metadata": {},
   "outputs": [],
   "source": [
    "members = pd.merge(members, ideology,\n",
    "                   how='outer', on='bioguide_id', \n",
    "                   validate='one_to_one', indicator='matched')"
   ]
  },
  {
   "cell_type": "code",
   "execution_count": 114,
   "id": "a86e5196",
   "metadata": {},
   "outputs": [
    {
     "data": {
      "text/plain": [
       "Index(['bioguide_id', 'Full name', 'Chamber', 'State', 'Party', 'District',\n",
       "       'birthYear', 'image', 'Office address', 'Phone', 'Website', 'fec_id',\n",
       "       'bioname', 'chamber', 'left_right_ideology', 'state_abbrev',\n",
       "       'district_code', 'icpsr', 'party', 'matched'],\n",
       "      dtype='object')"
      ]
     },
     "execution_count": 114,
     "metadata": {},
     "output_type": "execute_result"
    }
   ],
   "source": [
    "members.columns"
   ]
  },
  {
   "cell_type": "code",
   "execution_count": 115,
   "id": "668da55f",
   "metadata": {},
   "outputs": [],
   "source": [
    "members = members.drop(['Chamber', 'Party', 'District', 'State'], axis=1)"
   ]
  },
  {
   "cell_type": "code",
   "execution_count": 116,
   "id": "f9de8052",
   "metadata": {},
   "outputs": [],
   "source": [
    "members.columns = [c.lower().replace(' ', '_') for c in members.columns]"
   ]
  },
  {
   "cell_type": "code",
   "execution_count": 117,
   "id": "e7a5b530",
   "metadata": {},
   "outputs": [
    {
     "data": {
      "text/html": [
       "<div>\n",
       "<style scoped>\n",
       "    .dataframe tbody tr th:only-of-type {\n",
       "        vertical-align: middle;\n",
       "    }\n",
       "\n",
       "    .dataframe tbody tr th {\n",
       "        vertical-align: top;\n",
       "    }\n",
       "\n",
       "    .dataframe thead th {\n",
       "        text-align: right;\n",
       "    }\n",
       "</style>\n",
       "<table border=\"1\" class=\"dataframe\">\n",
       "  <thead>\n",
       "    <tr style=\"text-align: right;\">\n",
       "      <th></th>\n",
       "      <th>bioguide_id</th>\n",
       "      <th>full_name</th>\n",
       "      <th>birthyear</th>\n",
       "      <th>image</th>\n",
       "      <th>office_address</th>\n",
       "      <th>phone</th>\n",
       "      <th>website</th>\n",
       "      <th>fec_id</th>\n",
       "      <th>bioname</th>\n",
       "      <th>chamber</th>\n",
       "      <th>left_right_ideology</th>\n",
       "      <th>state_abbrev</th>\n",
       "      <th>district_code</th>\n",
       "      <th>icpsr</th>\n",
       "      <th>party</th>\n",
       "      <th>matched</th>\n",
       "    </tr>\n",
       "  </thead>\n",
       "  <tbody>\n",
       "    <tr>\n",
       "      <th>0</th>\n",
       "      <td>A000055</td>\n",
       "      <td>Robert B. Aderholt</td>\n",
       "      <td>1965.0</td>\n",
       "      <td>https://www.congress.gov/img/member/a000055_20...</td>\n",
       "      <td>272 Cannon House Office Building, Washington, ...</td>\n",
       "      <td>(202) 225-4876</td>\n",
       "      <td>https://aderholt.house.gov/</td>\n",
       "      <td>H6AL04098</td>\n",
       "      <td>ADERHOLT, Robert</td>\n",
       "      <td>House</td>\n",
       "      <td>0.405</td>\n",
       "      <td>AL</td>\n",
       "      <td>4</td>\n",
       "      <td>29701</td>\n",
       "      <td>Republican</td>\n",
       "      <td>both</td>\n",
       "    </tr>\n",
       "    <tr>\n",
       "      <th>1</th>\n",
       "      <td>A000148</td>\n",
       "      <td>Jake Auchincloss</td>\n",
       "      <td>1988.0</td>\n",
       "      <td>https://www.congress.gov/img/member/67817e391f...</td>\n",
       "      <td>1524 Longworth House Office Building, Washingt...</td>\n",
       "      <td>(202) 225-5931</td>\n",
       "      <td>https://auchincloss.house.gov</td>\n",
       "      <td>H0MA04192</td>\n",
       "      <td>AUCHINCLOSS, Jake</td>\n",
       "      <td>House</td>\n",
       "      <td>-0.288</td>\n",
       "      <td>MA</td>\n",
       "      <td>4</td>\n",
       "      <td>22100</td>\n",
       "      <td>Democrat</td>\n",
       "      <td>both</td>\n",
       "    </tr>\n",
       "    <tr>\n",
       "      <th>2</th>\n",
       "      <td>A000369</td>\n",
       "      <td>Mark E. Amodei</td>\n",
       "      <td>1958.0</td>\n",
       "      <td>https://www.congress.gov/img/member/a000369_20...</td>\n",
       "      <td>104 Cannon House Office Building, Washington, ...</td>\n",
       "      <td>(202) 225-6155</td>\n",
       "      <td>https://amodei.house.gov</td>\n",
       "      <td>H2NV02395</td>\n",
       "      <td>AMODEI, Mark E.</td>\n",
       "      <td>House</td>\n",
       "      <td>0.384</td>\n",
       "      <td>NV</td>\n",
       "      <td>2</td>\n",
       "      <td>21196</td>\n",
       "      <td>Republican</td>\n",
       "      <td>both</td>\n",
       "    </tr>\n",
       "    <tr>\n",
       "      <th>3</th>\n",
       "      <td>A000370</td>\n",
       "      <td>Alma S. Adams</td>\n",
       "      <td>1946.0</td>\n",
       "      <td>https://www.congress.gov/img/member/a000370_20...</td>\n",
       "      <td>2436 Rayburn House Office Building, Washington...</td>\n",
       "      <td>(202) 225-1510</td>\n",
       "      <td>https://adams.house.gov</td>\n",
       "      <td>H4NC12100</td>\n",
       "      <td>ADAMS, Alma</td>\n",
       "      <td>House</td>\n",
       "      <td>-0.462</td>\n",
       "      <td>NC</td>\n",
       "      <td>12</td>\n",
       "      <td>21545</td>\n",
       "      <td>Democrat</td>\n",
       "      <td>both</td>\n",
       "    </tr>\n",
       "    <tr>\n",
       "      <th>4</th>\n",
       "      <td>A000371</td>\n",
       "      <td>Pete Aguilar</td>\n",
       "      <td>1979.0</td>\n",
       "      <td>https://www.congress.gov/img/member/a000371_20...</td>\n",
       "      <td>108 Cannon House Office Building, Washington, ...</td>\n",
       "      <td>(202) 225-3201</td>\n",
       "      <td>https://aguilar.house.gov/</td>\n",
       "      <td>H2CA31125</td>\n",
       "      <td>AGUILAR, Peter Rey</td>\n",
       "      <td>House</td>\n",
       "      <td>-0.324</td>\n",
       "      <td>CA</td>\n",
       "      <td>33</td>\n",
       "      <td>21506</td>\n",
       "      <td>Democrat</td>\n",
       "      <td>both</td>\n",
       "    </tr>\n",
       "    <tr>\n",
       "      <th>...</th>\n",
       "      <td>...</td>\n",
       "      <td>...</td>\n",
       "      <td>...</td>\n",
       "      <td>...</td>\n",
       "      <td>...</td>\n",
       "      <td>...</td>\n",
       "      <td>...</td>\n",
       "      <td>...</td>\n",
       "      <td>...</td>\n",
       "      <td>...</td>\n",
       "      <td>...</td>\n",
       "      <td>...</td>\n",
       "      <td>...</td>\n",
       "      <td>...</td>\n",
       "      <td>...</td>\n",
       "      <td>...</td>\n",
       "    </tr>\n",
       "    <tr>\n",
       "      <th>540</th>\n",
       "      <td>W000830</td>\n",
       "      <td>George Whitesides</td>\n",
       "      <td>1974.0</td>\n",
       "      <td>https://www.congress.gov/img/member/68dc43db19...</td>\n",
       "      <td>1504 Longworth House Office Building, Washingt...</td>\n",
       "      <td>(202) 225-1956</td>\n",
       "      <td>https://whitesides.house.gov/</td>\n",
       "      <td>H4CA27111</td>\n",
       "      <td>WHITESIDES, George</td>\n",
       "      <td>House</td>\n",
       "      <td>-0.189</td>\n",
       "      <td>CA</td>\n",
       "      <td>27</td>\n",
       "      <td>22559</td>\n",
       "      <td>Democrat</td>\n",
       "      <td>both</td>\n",
       "    </tr>\n",
       "    <tr>\n",
       "      <th>541</th>\n",
       "      <td>W000831</td>\n",
       "      <td>James R. Walkinshaw</td>\n",
       "      <td>1982.0</td>\n",
       "      <td>https://www.congress.gov/img/member/68c1bd4ca9...</td>\n",
       "      <td>2265 Rayburn House Office Building, Washington...</td>\n",
       "      <td>(202) 225-1492</td>\n",
       "      <td>https://walkinshaw.house.gov/</td>\n",
       "      <td>H6VA11066</td>\n",
       "      <td>WALKINSHAW, James R.</td>\n",
       "      <td>House</td>\n",
       "      <td>-0.503</td>\n",
       "      <td>VA</td>\n",
       "      <td>11</td>\n",
       "      <td>22564</td>\n",
       "      <td>Democrat</td>\n",
       "      <td>both</td>\n",
       "    </tr>\n",
       "    <tr>\n",
       "      <th>542</th>\n",
       "      <td>Y000064</td>\n",
       "      <td>Todd Young</td>\n",
       "      <td>1972.0</td>\n",
       "      <td>https://www.congress.gov/img/member/y000064_20...</td>\n",
       "      <td>185 Dirksen Senate Office Building  Washington...</td>\n",
       "      <td>(202) 224-5623</td>\n",
       "      <td>https://www.young.senate.gov</td>\n",
       "      <td>S0IN00194</td>\n",
       "      <td>YOUNG, Todd</td>\n",
       "      <td>Senate</td>\n",
       "      <td>0.438</td>\n",
       "      <td>IN</td>\n",
       "      <td>0</td>\n",
       "      <td>21133</td>\n",
       "      <td>Republican</td>\n",
       "      <td>both</td>\n",
       "    </tr>\n",
       "    <tr>\n",
       "      <th>543</th>\n",
       "      <td>Y000067</td>\n",
       "      <td>Rudy Yakym III</td>\n",
       "      <td>1984.0</td>\n",
       "      <td>https://www.congress.gov/img/member/y000067_20...</td>\n",
       "      <td>349 Cannon House Office Building, Washington, ...</td>\n",
       "      <td>(202) 225-3915</td>\n",
       "      <td>https://yakym.house.gov</td>\n",
       "      <td>H2IN02295</td>\n",
       "      <td>YAKYM, Rudy, III</td>\n",
       "      <td>House</td>\n",
       "      <td>0.513</td>\n",
       "      <td>IN</td>\n",
       "      <td>2</td>\n",
       "      <td>22171</td>\n",
       "      <td>Republican</td>\n",
       "      <td>both</td>\n",
       "    </tr>\n",
       "    <tr>\n",
       "      <th>544</th>\n",
       "      <td>Z000018</td>\n",
       "      <td>Ryan K. Zinke</td>\n",
       "      <td>1961.0</td>\n",
       "      <td>https://www.congress.gov/img/member/117_rp_mt_...</td>\n",
       "      <td>512 Cannon House Office Building, Washington, ...</td>\n",
       "      <td>(202) 225-5628</td>\n",
       "      <td>https://zinke.house.gov</td>\n",
       "      <td>H4MT01041</td>\n",
       "      <td>ZINKE, Ryan</td>\n",
       "      <td>House</td>\n",
       "      <td>0.438</td>\n",
       "      <td>MT</td>\n",
       "      <td>1</td>\n",
       "      <td>21532</td>\n",
       "      <td>Republican</td>\n",
       "      <td>both</td>\n",
       "    </tr>\n",
       "  </tbody>\n",
       "</table>\n",
       "<p>545 rows × 16 columns</p>\n",
       "</div>"
      ],
      "text/plain": [
       "    bioguide_id            full_name  birthyear  \\\n",
       "0       A000055   Robert B. Aderholt     1965.0   \n",
       "1       A000148     Jake Auchincloss     1988.0   \n",
       "2       A000369       Mark E. Amodei     1958.0   \n",
       "3       A000370        Alma S. Adams     1946.0   \n",
       "4       A000371         Pete Aguilar     1979.0   \n",
       "..          ...                  ...        ...   \n",
       "540     W000830    George Whitesides     1974.0   \n",
       "541     W000831  James R. Walkinshaw     1982.0   \n",
       "542     Y000064           Todd Young     1972.0   \n",
       "543     Y000067       Rudy Yakym III     1984.0   \n",
       "544     Z000018        Ryan K. Zinke     1961.0   \n",
       "\n",
       "                                                 image  \\\n",
       "0    https://www.congress.gov/img/member/a000055_20...   \n",
       "1    https://www.congress.gov/img/member/67817e391f...   \n",
       "2    https://www.congress.gov/img/member/a000369_20...   \n",
       "3    https://www.congress.gov/img/member/a000370_20...   \n",
       "4    https://www.congress.gov/img/member/a000371_20...   \n",
       "..                                                 ...   \n",
       "540  https://www.congress.gov/img/member/68dc43db19...   \n",
       "541  https://www.congress.gov/img/member/68c1bd4ca9...   \n",
       "542  https://www.congress.gov/img/member/y000064_20...   \n",
       "543  https://www.congress.gov/img/member/y000067_20...   \n",
       "544  https://www.congress.gov/img/member/117_rp_mt_...   \n",
       "\n",
       "                                        office_address           phone  \\\n",
       "0    272 Cannon House Office Building, Washington, ...  (202) 225-4876   \n",
       "1    1524 Longworth House Office Building, Washingt...  (202) 225-5931   \n",
       "2    104 Cannon House Office Building, Washington, ...  (202) 225-6155   \n",
       "3    2436 Rayburn House Office Building, Washington...  (202) 225-1510   \n",
       "4    108 Cannon House Office Building, Washington, ...  (202) 225-3201   \n",
       "..                                                 ...             ...   \n",
       "540  1504 Longworth House Office Building, Washingt...  (202) 225-1956   \n",
       "541  2265 Rayburn House Office Building, Washington...  (202) 225-1492   \n",
       "542  185 Dirksen Senate Office Building  Washington...  (202) 224-5623   \n",
       "543  349 Cannon House Office Building, Washington, ...  (202) 225-3915   \n",
       "544  512 Cannon House Office Building, Washington, ...  (202) 225-5628   \n",
       "\n",
       "                           website     fec_id               bioname chamber  \\\n",
       "0      https://aderholt.house.gov/  H6AL04098      ADERHOLT, Robert   House   \n",
       "1    https://auchincloss.house.gov  H0MA04192     AUCHINCLOSS, Jake   House   \n",
       "2         https://amodei.house.gov  H2NV02395       AMODEI, Mark E.   House   \n",
       "3          https://adams.house.gov  H4NC12100           ADAMS, Alma   House   \n",
       "4       https://aguilar.house.gov/  H2CA31125    AGUILAR, Peter Rey   House   \n",
       "..                             ...        ...                   ...     ...   \n",
       "540  https://whitesides.house.gov/  H4CA27111    WHITESIDES, George   House   \n",
       "541  https://walkinshaw.house.gov/  H6VA11066  WALKINSHAW, James R.   House   \n",
       "542   https://www.young.senate.gov  S0IN00194           YOUNG, Todd  Senate   \n",
       "543        https://yakym.house.gov  H2IN02295      YAKYM, Rudy, III   House   \n",
       "544        https://zinke.house.gov  H4MT01041           ZINKE, Ryan   House   \n",
       "\n",
       "     left_right_ideology state_abbrev  district_code  icpsr       party  \\\n",
       "0                  0.405           AL              4  29701  Republican   \n",
       "1                 -0.288           MA              4  22100    Democrat   \n",
       "2                  0.384           NV              2  21196  Republican   \n",
       "3                 -0.462           NC             12  21545    Democrat   \n",
       "4                 -0.324           CA             33  21506    Democrat   \n",
       "..                   ...          ...            ...    ...         ...   \n",
       "540               -0.189           CA             27  22559    Democrat   \n",
       "541               -0.503           VA             11  22564    Democrat   \n",
       "542                0.438           IN              0  21133  Republican   \n",
       "543                0.513           IN              2  22171  Republican   \n",
       "544                0.438           MT              1  21532  Republican   \n",
       "\n",
       "    matched  \n",
       "0      both  \n",
       "1      both  \n",
       "2      both  \n",
       "3      both  \n",
       "4      both  \n",
       "..      ...  \n",
       "540    both  \n",
       "541    both  \n",
       "542    both  \n",
       "543    both  \n",
       "544    both  \n",
       "\n",
       "[545 rows x 16 columns]"
      ]
     },
     "execution_count": 117,
     "metadata": {},
     "output_type": "execute_result"
    }
   ],
   "source": [
    "members "
   ]
  },
  {
   "cell_type": "code",
   "execution_count": 118,
   "id": "f0e0009f",
   "metadata": {},
   "outputs": [],
   "source": [
    "members.to_csv('data/thirdNF/members.csv', index=False)"
   ]
  },
  {
   "cell_type": "code",
   "execution_count": 119,
   "id": "11b61a3e",
   "metadata": {},
   "outputs": [
    {
     "name": "stdout",
     "output_type": "stream",
     "text": [
      "actionDate\n",
      "1    2725\n",
      "2       9\n",
      "4       1\n",
      "Name: count, dtype: int64\n",
      "actionDesc\n",
      "1    2722\n",
      "2      12\n",
      "5       1\n",
      "Name: count, dtype: int64\n",
      "currentChamber\n",
      "1    2728\n",
      "2       6\n",
      "3       1\n",
      "Name: count, dtype: int64\n",
      "currentChamberCode\n",
      "1    2728\n",
      "2       6\n",
      "3       1\n",
      "Name: count, dtype: int64\n",
      "lastSummaryUpdateDate\n",
      "1    2722\n",
      "2      12\n",
      "5       1\n",
      "Name: count, dtype: int64\n",
      "text\n",
      "1    2730\n",
      "2       4\n",
      "4       1\n",
      "Name: count, dtype: int64\n",
      "updateDate\n",
      "1    2722\n",
      "2      12\n",
      "5       1\n",
      "Name: count, dtype: int64\n",
      "versionCode\n",
      "1    2722\n",
      "2      12\n",
      "5       1\n",
      "Name: count, dtype: int64\n",
      "bill.congress\n",
      "1    2735\n",
      "Name: count, dtype: int64\n",
      "bill.number\n",
      "1    2735\n",
      "Name: count, dtype: int64\n",
      "bill.originChamber\n",
      "1    2735\n",
      "Name: count, dtype: int64\n",
      "bill.originChamberCode\n",
      "1    2735\n",
      "Name: count, dtype: int64\n",
      "bill.title\n",
      "1    2735\n",
      "Name: count, dtype: int64\n",
      "bill.type\n",
      "1    2735\n",
      "Name: count, dtype: int64\n",
      "bill.updateDateIncludingText\n",
      "1    2735\n",
      "Name: count, dtype: int64\n",
      "bill.url\n",
      "1    2735\n",
      "Name: count, dtype: int64\n"
     ]
    }
   ],
   "source": [
    "for c in bill_summaries.columns: \n",
    "    d = bill_summaries.groupby(['bill.type', 'bill.number'])[c].nunique().value_counts()\n",
    "    print(d)"
   ]
  },
  {
   "cell_type": "code",
   "execution_count": 120,
   "id": "6736bbe8",
   "metadata": {},
   "outputs": [],
   "source": [
    "bills = bill_summaries[['bill.type', 'bill.number', 'bill.congress', 'bill.originChamber', \n",
    "                        'bill.originChamberCode', 'bill.title', 'bill.updateDateIncludingText', 'bill.url']].drop_duplicates()\n",
    "bills.columns = [c.lower().replace(' ', '_') for c in bills.columns]\n",
    "bills.to_csv('data/thirdNF/bills.csv', index=False)"
   ]
  },
  {
   "cell_type": "code",
   "execution_count": 121,
   "id": "331afa8f",
   "metadata": {},
   "outputs": [],
   "source": [
    "bill_versions = bill_summaries.drop(['bill.congress', 'bill.originChamber', 'bill.originChamberCode', \n",
    "                                     'bill.title', 'bill.updateDateIncludingText', 'bill.url'], axis=1)"
   ]
  },
  {
   "cell_type": "code",
   "execution_count": 122,
   "id": "163d1438",
   "metadata": {},
   "outputs": [],
   "source": [
    "bill_versions.columns = [c.lower().replace(' ', '_') for c in bill_versions.columns]\n",
    "bill_versions.to_csv('data/thirdNF/bill_versions.csv', index=False)"
   ]
  },
  {
   "cell_type": "code",
   "execution_count": 123,
   "id": "158ed315",
   "metadata": {},
   "outputs": [],
   "source": [
    "vote_compare.to_csv('data/thirdNF/vote_compare.csv', index=False)"
   ]
  }
 ],
 "metadata": {
  "kernelspec": {
   "display_name": "ds6600",
   "language": "python",
   "name": "python3"
  },
  "language_info": {
   "codemirror_mode": {
    "name": "ipython",
    "version": 3
   },
   "file_extension": ".py",
   "mimetype": "text/x-python",
   "name": "python",
   "nbconvert_exporter": "python",
   "pygments_lexer": "ipython3",
   "version": "3.13.5"
  }
 },
 "nbformat": 4,
 "nbformat_minor": 5
}
